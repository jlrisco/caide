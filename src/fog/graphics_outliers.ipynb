{
 "cells": [
  {
   "cell_type": "code",
   "execution_count": 120,
   "id": "9579133c-380b-4c41-9db0-77a1ae642a27",
   "metadata": {},
   "outputs": [],
   "source": [
    "import matplotlib.pyplot as plt\n",
    "import pandas as pd\n",
    "from pymongo import MongoClient\n",
    "import numpy as np"
   ]
  },
  {
   "cell_type": "code",
   "execution_count": 122,
   "id": "d4978a1b-1e26-454c-b968-da490189592d",
   "metadata": {},
   "outputs": [],
   "source": [
    "client = MongoClient(\"mongodb://localhost:27017/\")\n",
    "db = client.solar_irradiation_fogserver\n",
    "collection = db.sensors\n",
    "data = pd.DataFrame(list(collection.find()))"
   ]
  },
  {
   "cell_type": "code",
   "execution_count": 123,
   "id": "b4d9a28f-e0e4-4574-bf14-ec341bbab2e1",
   "metadata": {},
   "outputs": [
    {
     "data": {
      "text/plain": [
       "(61200, 8)"
      ]
     },
     "execution_count": 123,
     "metadata": {},
     "output_type": "execute_result"
    }
   ],
   "source": [
    "data.shape"
   ]
  },
  {
   "cell_type": "code",
   "execution_count": 124,
   "id": "b8584e92-b518-47bf-a21a-4c69cb7c4f56",
   "metadata": {},
   "outputs": [
    {
     "data": {
      "text/html": [
       "<div>\n",
       "<style scoped>\n",
       "    .dataframe tbody tr th:only-of-type {\n",
       "        vertical-align: middle;\n",
       "    }\n",
       "\n",
       "    .dataframe tbody tr th {\n",
       "        vertical-align: top;\n",
       "    }\n",
       "\n",
       "    .dataframe thead th {\n",
       "        text-align: right;\n",
       "    }\n",
       "</style>\n",
       "<table border=\"1\" class=\"dataframe\">\n",
       "  <thead>\n",
       "    <tr style=\"text-align: right;\">\n",
       "      <th></th>\n",
       "      <th>_id</th>\n",
       "      <th>datacenter</th>\n",
       "      <th>farm</th>\n",
       "      <th>sensor</th>\n",
       "      <th>datetime</th>\n",
       "      <th>radiation_src</th>\n",
       "      <th>outlier</th>\n",
       "      <th>radiation</th>\n",
       "    </tr>\n",
       "  </thead>\n",
       "  <tbody>\n",
       "    <tr>\n",
       "      <th>0</th>\n",
       "      <td>62c3887e6444843c75c3e110</td>\n",
       "      <td>DataCenter</td>\n",
       "      <td>FogServer01</td>\n",
       "      <td>ap1</td>\n",
       "      <td>2010-03-20 07:30:00</td>\n",
       "      <td>163.045</td>\n",
       "      <td>0</td>\n",
       "      <td>163.045</td>\n",
       "    </tr>\n",
       "    <tr>\n",
       "      <th>1</th>\n",
       "      <td>62c3887e6444843c75c3e111</td>\n",
       "      <td>DataCenter</td>\n",
       "      <td>FogServer01</td>\n",
       "      <td>ap3</td>\n",
       "      <td>2010-03-20 07:30:00</td>\n",
       "      <td>161.377</td>\n",
       "      <td>0</td>\n",
       "      <td>161.377</td>\n",
       "    </tr>\n",
       "    <tr>\n",
       "      <th>2</th>\n",
       "      <td>62c3887e6444843c75c3e112</td>\n",
       "      <td>DataCenter</td>\n",
       "      <td>FogServer01</td>\n",
       "      <td>ap4</td>\n",
       "      <td>2010-03-20 07:30:00</td>\n",
       "      <td>162.135</td>\n",
       "      <td>0</td>\n",
       "      <td>162.135</td>\n",
       "    </tr>\n",
       "    <tr>\n",
       "      <th>3</th>\n",
       "      <td>62c3887e6444843c75c3e113</td>\n",
       "      <td>DataCenter</td>\n",
       "      <td>FogServer01</td>\n",
       "      <td>ap5</td>\n",
       "      <td>2010-03-20 07:30:00</td>\n",
       "      <td>159.488</td>\n",
       "      <td>0</td>\n",
       "      <td>159.488</td>\n",
       "    </tr>\n",
       "    <tr>\n",
       "      <th>4</th>\n",
       "      <td>62c3887e6444843c75c3e114</td>\n",
       "      <td>DataCenter</td>\n",
       "      <td>FogServer01</td>\n",
       "      <td>ap6</td>\n",
       "      <td>2010-03-20 07:30:00</td>\n",
       "      <td>163.823</td>\n",
       "      <td>0</td>\n",
       "      <td>163.823</td>\n",
       "    </tr>\n",
       "  </tbody>\n",
       "</table>\n",
       "</div>"
      ],
      "text/plain": [
       "                        _id  datacenter         farm sensor  \\\n",
       "0  62c3887e6444843c75c3e110  DataCenter  FogServer01    ap1   \n",
       "1  62c3887e6444843c75c3e111  DataCenter  FogServer01    ap3   \n",
       "2  62c3887e6444843c75c3e112  DataCenter  FogServer01    ap4   \n",
       "3  62c3887e6444843c75c3e113  DataCenter  FogServer01    ap5   \n",
       "4  62c3887e6444843c75c3e114  DataCenter  FogServer01    ap6   \n",
       "\n",
       "             datetime  radiation_src  outlier  radiation  \n",
       "0 2010-03-20 07:30:00        163.045        0    163.045  \n",
       "1 2010-03-20 07:30:00        161.377        0    161.377  \n",
       "2 2010-03-20 07:30:00        162.135        0    162.135  \n",
       "3 2010-03-20 07:30:00        159.488        0    159.488  \n",
       "4 2010-03-20 07:30:00        163.823        0    163.823  "
      ]
     },
     "execution_count": 124,
     "metadata": {},
     "output_type": "execute_result"
    }
   ],
   "source": [
    "data.head()"
   ]
  },
  {
   "cell_type": "code",
   "execution_count": 125,
   "id": "ae348685-af7b-400b-b90d-6ecedc507e5d",
   "metadata": {},
   "outputs": [
    {
     "data": {
      "text/plain": [
       "_id                      object\n",
       "datacenter               object\n",
       "farm                     object\n",
       "sensor                   object\n",
       "datetime         datetime64[ns]\n",
       "radiation_src           float64\n",
       "outlier                   int64\n",
       "radiation               float64\n",
       "dtype: object"
      ]
     },
     "execution_count": 125,
     "metadata": {},
     "output_type": "execute_result"
    }
   ],
   "source": [
    "data.dtypes"
   ]
  },
  {
   "cell_type": "code",
   "execution_count": 126,
   "id": "2fc4859c-957b-4df0-93a3-16908c67f3fc",
   "metadata": {},
   "outputs": [
    {
     "data": {
      "text/html": [
       "<div>\n",
       "<style scoped>\n",
       "    .dataframe tbody tr th:only-of-type {\n",
       "        vertical-align: middle;\n",
       "    }\n",
       "\n",
       "    .dataframe tbody tr th {\n",
       "        vertical-align: top;\n",
       "    }\n",
       "\n",
       "    .dataframe thead th {\n",
       "        text-align: right;\n",
       "    }\n",
       "</style>\n",
       "<table border=\"1\" class=\"dataframe\">\n",
       "  <thead>\n",
       "    <tr style=\"text-align: right;\">\n",
       "      <th></th>\n",
       "      <th>radiation_src</th>\n",
       "      <th>outlier</th>\n",
       "      <th>radiation</th>\n",
       "    </tr>\n",
       "  </thead>\n",
       "  <tbody>\n",
       "    <tr>\n",
       "      <th>count</th>\n",
       "      <td>61200.000000</td>\n",
       "      <td>61200.000000</td>\n",
       "      <td>61200.000000</td>\n",
       "    </tr>\n",
       "    <tr>\n",
       "      <th>mean</th>\n",
       "      <td>285.776553</td>\n",
       "      <td>0.000180</td>\n",
       "      <td>285.778192</td>\n",
       "    </tr>\n",
       "    <tr>\n",
       "      <th>std</th>\n",
       "      <td>74.261128</td>\n",
       "      <td>0.013406</td>\n",
       "      <td>74.246332</td>\n",
       "    </tr>\n",
       "    <tr>\n",
       "      <th>min</th>\n",
       "      <td>76.946300</td>\n",
       "      <td>0.000000</td>\n",
       "      <td>76.946300</td>\n",
       "    </tr>\n",
       "    <tr>\n",
       "      <th>25%</th>\n",
       "      <td>220.443500</td>\n",
       "      <td>0.000000</td>\n",
       "      <td>220.451000</td>\n",
       "    </tr>\n",
       "    <tr>\n",
       "      <th>50%</th>\n",
       "      <td>284.478000</td>\n",
       "      <td>0.000000</td>\n",
       "      <td>284.478000</td>\n",
       "    </tr>\n",
       "    <tr>\n",
       "      <th>75%</th>\n",
       "      <td>349.166000</td>\n",
       "      <td>0.000000</td>\n",
       "      <td>349.166000</td>\n",
       "    </tr>\n",
       "    <tr>\n",
       "      <th>max</th>\n",
       "      <td>451.237000</td>\n",
       "      <td>1.000000</td>\n",
       "      <td>422.003000</td>\n",
       "    </tr>\n",
       "  </tbody>\n",
       "</table>\n",
       "</div>"
      ],
      "text/plain": [
       "       radiation_src       outlier     radiation\n",
       "count   61200.000000  61200.000000  61200.000000\n",
       "mean      285.776553      0.000180    285.778192\n",
       "std        74.261128      0.013406     74.246332\n",
       "min        76.946300      0.000000     76.946300\n",
       "25%       220.443500      0.000000    220.451000\n",
       "50%       284.478000      0.000000    284.478000\n",
       "75%       349.166000      0.000000    349.166000\n",
       "max       451.237000      1.000000    422.003000"
      ]
     },
     "execution_count": 126,
     "metadata": {},
     "output_type": "execute_result"
    }
   ],
   "source": [
    "data.describe()"
   ]
  },
  {
   "cell_type": "markdown",
   "id": "1c324e0f-7cde-43a6-8f93-79c469beb210",
   "metadata": {},
   "source": [
    "# Deteción de outliers"
   ]
  },
  {
   "cell_type": "code",
   "execution_count": 133,
   "id": "2ddeaba7-ab4a-4dcb-8399-ed9dcd767e6c",
   "metadata": {},
   "outputs": [
    {
     "data": {
      "image/png": "[encoded data removed]",
      "text/plain": [
       "<Figure size 432x288 with 1 Axes>"
      ]
     },
     "metadata": {
      "needs_background": "light"
     },
     "output_type": "display_data"
    }
   ],
   "source": [
    "sensor = \"dh2\"\n",
    "dap1 = data.query(\"sensor==@sensor\").sort_values(by=\"datetime\", ascending=True)\n",
    "dap1[\"seconds\"] = np.arange(1, len(dap1)+1)\n",
    "X = dap1[\"seconds\"]\n",
    "Y = dap1[\"radiation_src\"]\n",
    "dap1_outlier = dap1.query(\"outlier==1\")\n",
    "XO = dap1_outlier[\"seconds\"]\n",
    "YO = dap1_outlier[\"radiation_src\"]\n",
    "plt.scatter(XO, YO, c='r')\n",
    "plt.plot(X, Y, c='b')\n",
    "plt.xlabel('Seconds')\n",
    "plt.ylabel('Radiation')\n",
    "plt.title('Detection outliers in ' + sensor + ' sensor')\n",
    "plt.savefig('det_' + sensor + '.png')\n",
    "plt.show()"
   ]
  },
  {
   "cell_type": "markdown",
   "id": "6cecc2bc-931a-415e-b272-ac2d34982174",
   "metadata": {},
   "source": [
    "# Corrección de outliers"
   ]
  },
  {
   "cell_type": "code",
   "execution_count": 134,
   "id": "53536c90-163d-40ce-9d4f-32c1b85943ae",
   "metadata": {},
   "outputs": [
    {
     "data": {
      "image/png": "[encoded data removed]",
      "text/plain": [
       "<Figure size 432x288 with 1 Axes>"
      ]
     },
     "metadata": {
      "needs_background": "light"
     },
     "output_type": "display_data"
    }
   ],
   "source": [
    "XC = dap1[\"seconds\"]\n",
    "YC = dap1[\"radiation\"]\n",
    "XOC = dap1_outlier[\"seconds\"]\n",
    "YOC = dap1_outlier[\"radiation\"]\n",
    "plt.scatter(XOC, YOC, c='r')\n",
    "plt.plot(XC, YC, c='b')\n",
    "plt.xlabel('Seconds')\n",
    "plt.ylabel('Radiation')\n",
    "plt.title('Correction outliers in ' + sensor + ' sensor')\n",
    "plt.savefig('corr_' + sensor + '.png')\n",
    "plt.show()"
   ]
  },
  {
   "cell_type": "code",
   "execution_count": null,
   "id": "12727cc9-722f-4df6-ad1b-4895951f6203",
   "metadata": {},
   "outputs": [],
   "source": []
  }
 ],
 "metadata": {
  "kernelspec": {
   "display_name": "Python 3 (ipykernel)",
   "language": "python",
   "name": "python3"
  },
  "language_info": {
   "codemirror_mode": {
    "name": "ipython",
    "version": 3
   },
   "file_extension": ".py",
   "mimetype": "text/x-python",
   "name": "python",
   "nbconvert_exporter": "python",
   "pygments_lexer": "ipython3",
   "version": "3.9.7"
  }
 },
 "nbformat": 4,
 "nbformat_minor": 5
}
